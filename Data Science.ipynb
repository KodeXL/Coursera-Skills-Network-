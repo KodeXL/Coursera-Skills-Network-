{
    "cells": [
        {
            "metadata": {},
            "cell_type": "code",
            "source": "print(\"Hello World of Watson Studio\")\n",
            "execution_count": 1,
            "outputs": [
                {
                    "output_type": "stream",
                    "text": "Hello World of Watson Studio\n",
                    "name": "stdout"
                }
            ]
        },
        {
            "metadata": {},
            "cell_type": "markdown",
            "source": "# My Jupyter Notebook on IBM #Watson Studio\n\n**Olamide Olayinka**\n\nData Engineer/Scientist/Analyst\n\n***Data Science affords me the opportunity to contibute meaaningfully to organizational development through trend identification/visualization and anomaly detection***\n\n***My experience with manipulating/cleaning data and passion for optimizing processes align well with the responsibilities of a data engineer/analyst/scientist. Overall, data science is vital in organizational development, it would be a plesure to be able to apply my skills for a vital purpose***\n"
        },
        {
            "metadata": {},
            "cell_type": "markdown",
            "source": "### An arithmetic expression is contained in the below cell"
        },
        {
            "metadata": {},
            "cell_type": "code",
            "source": "1+1",
            "execution_count": 1,
            "outputs": [
                {
                    "output_type": "execute_result",
                    "execution_count": 1,
                    "data": {
                        "text/plain": "2"
                    },
                    "metadata": {}
                }
            ]
        },
        {
            "metadata": {},
            "cell_type": "markdown",
            "source": "* numbered list\n* tables\n* hyperlinks\n* images"
        },
        {
            "metadata": {},
            "cell_type": "code",
            "source": "",
            "execution_count": null,
            "outputs": []
        }
    ],
    "metadata": {
        "kernelspec": {
            "name": "python3",
            "display_name": "Python 3.10",
            "language": "python"
        },
        "language_info": {
            "name": "python",
            "version": "3.10.9",
            "mimetype": "text/x-python",
            "codemirror_mode": {
                "name": "ipython",
                "version": 3
            },
            "pygments_lexer": "ipython3",
            "nbconvert_exporter": "python",
            "file_extension": ".py"
        }
    },
    "nbformat": 4,
    "nbformat_minor": 1
}